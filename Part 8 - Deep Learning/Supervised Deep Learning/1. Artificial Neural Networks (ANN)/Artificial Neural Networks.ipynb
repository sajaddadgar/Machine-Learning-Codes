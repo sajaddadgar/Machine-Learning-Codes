{
 "cells": [
  {
   "cell_type": "markdown",
   "metadata": {},
   "source": [
    "# Artificial Neural Networks (ANN)"
   ]
  },
  {
   "cell_type": "markdown",
   "metadata": {},
   "source": [
    "**1. Data Preprocessing**"
   ]
  },
  {
   "cell_type": "code",
   "execution_count": 52,
   "metadata": {},
   "outputs": [],
   "source": [
    "import numpy as np\n",
    "import pandas as pd\n",
    "import tensorflow as tf"
   ]
  },
  {
   "cell_type": "code",
   "execution_count": 53,
   "metadata": {},
   "outputs": [],
   "source": [
    "import warnings\n",
    "warnings.filterwarnings('ignore')"
   ]
  },
  {
   "cell_type": "code",
   "execution_count": 54,
   "metadata": {},
   "outputs": [
    {
     "data": {
      "text/html": [
       "<div>\n",
       "<style scoped>\n",
       "    .dataframe tbody tr th:only-of-type {\n",
       "        vertical-align: middle;\n",
       "    }\n",
       "\n",
       "    .dataframe tbody tr th {\n",
       "        vertical-align: top;\n",
       "    }\n",
       "\n",
       "    .dataframe thead th {\n",
       "        text-align: right;\n",
       "    }\n",
       "</style>\n",
       "<table border=\"1\" class=\"dataframe\">\n",
       "  <thead>\n",
       "    <tr style=\"text-align: right;\">\n",
       "      <th></th>\n",
       "      <th>RowNumber</th>\n",
       "      <th>CustomerId</th>\n",
       "      <th>Surname</th>\n",
       "      <th>CreditScore</th>\n",
       "      <th>Geography</th>\n",
       "      <th>Gender</th>\n",
       "      <th>Age</th>\n",
       "      <th>Tenure</th>\n",
       "      <th>Balance</th>\n",
       "      <th>NumOfProducts</th>\n",
       "      <th>HasCrCard</th>\n",
       "      <th>IsActiveMember</th>\n",
       "      <th>EstimatedSalary</th>\n",
       "      <th>Exited</th>\n",
       "    </tr>\n",
       "  </thead>\n",
       "  <tbody>\n",
       "    <tr>\n",
       "      <th>0</th>\n",
       "      <td>1</td>\n",
       "      <td>15634602</td>\n",
       "      <td>Hargrave</td>\n",
       "      <td>619</td>\n",
       "      <td>France</td>\n",
       "      <td>Female</td>\n",
       "      <td>42</td>\n",
       "      <td>2</td>\n",
       "      <td>0.00</td>\n",
       "      <td>1</td>\n",
       "      <td>1</td>\n",
       "      <td>1</td>\n",
       "      <td>101348.88</td>\n",
       "      <td>1</td>\n",
       "    </tr>\n",
       "    <tr>\n",
       "      <th>1</th>\n",
       "      <td>2</td>\n",
       "      <td>15647311</td>\n",
       "      <td>Hill</td>\n",
       "      <td>608</td>\n",
       "      <td>Spain</td>\n",
       "      <td>Female</td>\n",
       "      <td>41</td>\n",
       "      <td>1</td>\n",
       "      <td>83807.86</td>\n",
       "      <td>1</td>\n",
       "      <td>0</td>\n",
       "      <td>1</td>\n",
       "      <td>112542.58</td>\n",
       "      <td>0</td>\n",
       "    </tr>\n",
       "    <tr>\n",
       "      <th>2</th>\n",
       "      <td>3</td>\n",
       "      <td>15619304</td>\n",
       "      <td>Onio</td>\n",
       "      <td>502</td>\n",
       "      <td>France</td>\n",
       "      <td>Female</td>\n",
       "      <td>42</td>\n",
       "      <td>8</td>\n",
       "      <td>159660.80</td>\n",
       "      <td>3</td>\n",
       "      <td>1</td>\n",
       "      <td>0</td>\n",
       "      <td>113931.57</td>\n",
       "      <td>1</td>\n",
       "    </tr>\n",
       "    <tr>\n",
       "      <th>3</th>\n",
       "      <td>4</td>\n",
       "      <td>15701354</td>\n",
       "      <td>Boni</td>\n",
       "      <td>699</td>\n",
       "      <td>France</td>\n",
       "      <td>Female</td>\n",
       "      <td>39</td>\n",
       "      <td>1</td>\n",
       "      <td>0.00</td>\n",
       "      <td>2</td>\n",
       "      <td>0</td>\n",
       "      <td>0</td>\n",
       "      <td>93826.63</td>\n",
       "      <td>0</td>\n",
       "    </tr>\n",
       "    <tr>\n",
       "      <th>4</th>\n",
       "      <td>5</td>\n",
       "      <td>15737888</td>\n",
       "      <td>Mitchell</td>\n",
       "      <td>850</td>\n",
       "      <td>Spain</td>\n",
       "      <td>Female</td>\n",
       "      <td>43</td>\n",
       "      <td>2</td>\n",
       "      <td>125510.82</td>\n",
       "      <td>1</td>\n",
       "      <td>1</td>\n",
       "      <td>1</td>\n",
       "      <td>79084.10</td>\n",
       "      <td>0</td>\n",
       "    </tr>\n",
       "  </tbody>\n",
       "</table>\n",
       "</div>"
      ],
      "text/plain": [
       "   RowNumber  CustomerId   Surname  CreditScore Geography  Gender  Age  \\\n",
       "0          1    15634602  Hargrave          619    France  Female   42   \n",
       "1          2    15647311      Hill          608     Spain  Female   41   \n",
       "2          3    15619304      Onio          502    France  Female   42   \n",
       "3          4    15701354      Boni          699    France  Female   39   \n",
       "4          5    15737888  Mitchell          850     Spain  Female   43   \n",
       "\n",
       "   Tenure    Balance  NumOfProducts  HasCrCard  IsActiveMember  \\\n",
       "0       2       0.00              1          1               1   \n",
       "1       1   83807.86              1          0               1   \n",
       "2       8  159660.80              3          1               0   \n",
       "3       1       0.00              2          0               0   \n",
       "4       2  125510.82              1          1               1   \n",
       "\n",
       "   EstimatedSalary  Exited  \n",
       "0        101348.88       1  \n",
       "1        112542.58       0  \n",
       "2        113931.57       1  \n",
       "3         93826.63       0  \n",
       "4         79084.10       0  "
      ]
     },
     "execution_count": 54,
     "metadata": {},
     "output_type": "execute_result"
    }
   ],
   "source": [
    "dataframe = pd.read_csv('Churn_Modelling.csv')\n",
    "dataframe.head(5)"
   ]
  },
  {
   "cell_type": "code",
   "execution_count": 55,
   "metadata": {},
   "outputs": [],
   "source": [
    "X = dataframe.iloc[:, 3:-1].values\n",
    "y = dataframe.iloc[:, -1].values"
   ]
  },
  {
   "cell_type": "markdown",
   "metadata": {},
   "source": [
    "**1.1. Encoding Categorical Data**"
   ]
  },
  {
   "cell_type": "code",
   "execution_count": 56,
   "metadata": {},
   "outputs": [],
   "source": [
    "from sklearn.preprocessing import LabelEncoder\n",
    "from sklearn.compose import ColumnTransformer\n",
    "from sklearn.preprocessing import OneHotEncoder"
   ]
  },
  {
   "cell_type": "markdown",
   "metadata": {},
   "source": [
    "**Gender:**"
   ]
  },
  {
   "cell_type": "code",
   "execution_count": 57,
   "metadata": {},
   "outputs": [],
   "source": [
    "label_encoder = LabelEncoder()"
   ]
  },
  {
   "cell_type": "code",
   "execution_count": 58,
   "metadata": {},
   "outputs": [],
   "source": [
    "X[:, 2] = label_encoder.fit_transform(X[:, 2])"
   ]
  },
  {
   "cell_type": "markdown",
   "metadata": {},
   "source": [
    "**Geography:**"
   ]
  },
  {
   "cell_type": "code",
   "execution_count": 59,
   "metadata": {},
   "outputs": [],
   "source": [
    "column_transformer = ColumnTransformer([('encoder', OneHotEncoder(), [1])], remainder='passthrough')"
   ]
  },
  {
   "cell_type": "code",
   "execution_count": 60,
   "metadata": {},
   "outputs": [],
   "source": [
    "X = np.array(column_transformer.fit_transform(X))"
   ]
  },
  {
   "cell_type": "code",
   "execution_count": 61,
   "metadata": {},
   "outputs": [],
   "source": [
    "# Remove one column to prevent dummy trap\n",
    "# But libraries handle this\n",
    "# X = X[:, 1:]"
   ]
  },
  {
   "cell_type": "code",
   "execution_count": 63,
   "metadata": {},
   "outputs": [
    {
     "data": {
      "text/plain": [
       "array([[1.0, 0.0, 0.0, 619, 0, 42, 2, 0.0, 1, 1, 1, 101348.88],\n",
       "       [0.0, 0.0, 1.0, 608, 0, 41, 1, 83807.86, 1, 0, 1, 112542.58],\n",
       "       [1.0, 0.0, 0.0, 502, 0, 42, 8, 159660.8, 3, 1, 0, 113931.57],\n",
       "       [1.0, 0.0, 0.0, 699, 0, 39, 1, 0.0, 2, 0, 0, 93826.63],\n",
       "       [0.0, 0.0, 1.0, 850, 0, 43, 2, 125510.82, 1, 1, 1, 79084.1]],\n",
       "      dtype=object)"
      ]
     },
     "execution_count": 63,
     "metadata": {},
     "output_type": "execute_result"
    }
   ],
   "source": [
    "X[:5, :]"
   ]
  },
  {
   "cell_type": "markdown",
   "metadata": {},
   "source": [
    "**1.2. Feature Scaling**"
   ]
  },
  {
   "cell_type": "code",
   "execution_count": 64,
   "metadata": {},
   "outputs": [],
   "source": [
    "from sklearn.preprocessing import StandardScaler"
   ]
  },
  {
   "cell_type": "code",
   "execution_count": 65,
   "metadata": {},
   "outputs": [],
   "source": [
    "sc = StandardScaler()\n",
    "X = sc.fit_transform(X)"
   ]
  },
  {
   "cell_type": "markdown",
   "metadata": {},
   "source": [
    "**1.3. Splitting Data to Training Set and Test Set**"
   ]
  },
  {
   "cell_type": "code",
   "execution_count": 66,
   "metadata": {},
   "outputs": [],
   "source": [
    "from sklearn.model_selection import train_test_split"
   ]
  },
  {
   "cell_type": "code",
   "execution_count": 67,
   "metadata": {},
   "outputs": [],
   "source": [
    "x_train, x_test, y_train, y_test = train_test_split(X, y, test_size = 0.2, random_state = 0)"
   ]
  },
  {
   "cell_type": "markdown",
   "metadata": {},
   "source": [
    "**2. Artificial Neural Network**"
   ]
  },
  {
   "cell_type": "markdown",
   "metadata": {},
   "source": [
    "**Step 1: Create Neural Network**"
   ]
  },
  {
   "cell_type": "markdown",
   "metadata": {},
   "source": [
    "**Intializing the ANN**"
   ]
  },
  {
   "cell_type": "code",
   "execution_count": 68,
   "metadata": {},
   "outputs": [],
   "source": [
    "ann = tf.keras.models.Sequential()"
   ]
  },
  {
   "cell_type": "markdown",
   "metadata": {},
   "source": [
    "**Adding the Input Layer and the First Hidden Layer**"
   ]
  },
  {
   "cell_type": "code",
   "execution_count": 69,
   "metadata": {},
   "outputs": [],
   "source": [
    "# number of units is ART, and you have to experiment and choose different number of units to get the best model\n",
    "ann.add(tf.keras.layers.Dense(units = 6, activation = 'relu'))"
   ]
  },
  {
   "cell_type": "markdown",
   "metadata": {},
   "source": [
    "**Adding the Second Hidden Layer**"
   ]
  },
  {
   "cell_type": "code",
   "execution_count": 70,
   "metadata": {},
   "outputs": [],
   "source": [
    "ann.add(tf.keras.layers.Dense(units = 6, activation = 'relu'))"
   ]
  },
  {
   "cell_type": "markdown",
   "metadata": {},
   "source": [
    "**Adding the Output Layer**"
   ]
  },
  {
   "cell_type": "code",
   "execution_count": 71,
   "metadata": {},
   "outputs": [],
   "source": [
    "ann.add(tf.keras.layers.Dense(units = 1, activation = 'sigmoid'))"
   ]
  },
  {
   "cell_type": "markdown",
   "metadata": {},
   "source": [
    "**Step 2: Training the ANN**"
   ]
  },
  {
   "cell_type": "markdown",
   "metadata": {},
   "source": [
    "**Compile**"
   ]
  },
  {
   "cell_type": "code",
   "execution_count": 72,
   "metadata": {},
   "outputs": [],
   "source": [
    "# Stochastic gradient descent optimizer: adam\n",
    "# Logarithmic Loss:\n",
    "# if dependent variable has binary outcome, Logarithmic Loss = binary cross entropy loss\n",
    "# if dependent variable has more than two outcome, Logarithmic Loss = categorical cross entropy loss \n",
    "ann.compile(optimizer = 'adam', loss = 'binary_crossentropy', metrics = ['accuracy'])"
   ]
  },
  {
   "cell_type": "markdown",
   "metadata": {},
   "source": [
    "**Training on the Training Set**"
   ]
  },
  {
   "cell_type": "code",
   "execution_count": 73,
   "metadata": {},
   "outputs": [
    {
     "name": "stdout",
     "output_type": "stream",
     "text": [
      "Train on 8000 samples\n",
      "Epoch 1/100\n",
      "8000/8000 [==============================] - 1s 117us/sample - loss: 0.6284 - accuracy: 0.7145\n",
      "Epoch 2/100\n",
      "8000/8000 [==============================] - 1s 69us/sample - loss: 0.4850 - accuracy: 0.7960\n",
      "Epoch 3/100\n",
      "8000/8000 [==============================] - 1s 63us/sample - loss: 0.4509 - accuracy: 0.7969\n",
      "Epoch 4/100\n",
      "8000/8000 [==============================] - 1s 65us/sample - loss: 0.4347 - accuracy: 0.8056\n",
      "Epoch 5/100\n",
      "8000/8000 [==============================] - 1s 68us/sample - loss: 0.4266 - accuracy: 0.8125\n",
      "Epoch 6/100\n",
      "8000/8000 [==============================] - 1s 70us/sample - loss: 0.4219 - accuracy: 0.8161\n",
      "Epoch 7/100\n",
      "8000/8000 [==============================] - 1s 70us/sample - loss: 0.4196 - accuracy: 0.8176\n",
      "Epoch 8/100\n",
      "8000/8000 [==============================] - 1s 71us/sample - loss: 0.4174 - accuracy: 0.8207\n",
      "Epoch 9/100\n",
      "8000/8000 [==============================] - 1s 64us/sample - loss: 0.4156 - accuracy: 0.8229\n",
      "Epoch 10/100\n",
      "8000/8000 [==============================] - 1s 66us/sample - loss: 0.4138 - accuracy: 0.8275\n",
      "Epoch 11/100\n",
      "8000/8000 [==============================] - 1s 69us/sample - loss: 0.4117 - accuracy: 0.8304\n",
      "Epoch 12/100\n",
      "8000/8000 [==============================] - 1s 78us/sample - loss: 0.4098 - accuracy: 0.8315\n",
      "Epoch 13/100\n",
      "8000/8000 [==============================] - 1s 73us/sample - loss: 0.4083 - accuracy: 0.8321\n",
      "Epoch 14/100\n",
      "8000/8000 [==============================] - 1s 66us/sample - loss: 0.4070 - accuracy: 0.8322\n",
      "Epoch 15/100\n",
      "8000/8000 [==============================] - 1s 64us/sample - loss: 0.4063 - accuracy: 0.8336\n",
      "Epoch 16/100\n",
      "8000/8000 [==============================] - 1s 83us/sample - loss: 0.4053 - accuracy: 0.8347\n",
      "Epoch 17/100\n",
      "8000/8000 [==============================] - 1s 82us/sample - loss: 0.4044 - accuracy: 0.8329\n",
      "Epoch 18/100\n",
      "8000/8000 [==============================] - 0s 53us/sample - loss: 0.4037 - accuracy: 0.8338\n",
      "Epoch 19/100\n",
      "8000/8000 [==============================] - 1s 69us/sample - loss: 0.4028 - accuracy: 0.8347\n",
      "Epoch 20/100\n",
      "8000/8000 [==============================] - 1s 65us/sample - loss: 0.4020 - accuracy: 0.8345\n",
      "Epoch 21/100\n",
      "8000/8000 [==============================] - 1s 63us/sample - loss: 0.4012 - accuracy: 0.8335\n",
      "Epoch 22/100\n",
      "8000/8000 [==============================] - 1s 67us/sample - loss: 0.3998 - accuracy: 0.8334\n",
      "Epoch 23/100\n",
      "8000/8000 [==============================] - 1s 66us/sample - loss: 0.3992 - accuracy: 0.8330\n",
      "Epoch 24/100\n",
      "8000/8000 [==============================] - 1s 70us/sample - loss: 0.3979 - accuracy: 0.8345\n",
      "Epoch 25/100\n",
      "8000/8000 [==============================] - 1s 67us/sample - loss: 0.3969 - accuracy: 0.8334\n",
      "Epoch 26/100\n",
      "8000/8000 [==============================] - 0s 47us/sample - loss: 0.3958 - accuracy: 0.8345\n",
      "Epoch 27/100\n",
      "8000/8000 [==============================] - 1s 70us/sample - loss: 0.3942 - accuracy: 0.8345\n",
      "Epoch 28/100\n",
      "8000/8000 [==============================] - 1s 64us/sample - loss: 0.3926 - accuracy: 0.8354\n",
      "Epoch 29/100\n",
      "8000/8000 [==============================] - 1s 69us/sample - loss: 0.3901 - accuracy: 0.8380\n",
      "Epoch 30/100\n",
      "8000/8000 [==============================] - 1s 69us/sample - loss: 0.3872 - accuracy: 0.8396\n",
      "Epoch 31/100\n",
      "8000/8000 [==============================] - 1s 67us/sample - loss: 0.3835 - accuracy: 0.8418\n",
      "Epoch 32/100\n",
      "8000/8000 [==============================] - 1s 68us/sample - loss: 0.3795 - accuracy: 0.8419\n",
      "Epoch 33/100\n",
      "8000/8000 [==============================] - 1s 73us/sample - loss: 0.3746 - accuracy: 0.8413\n",
      "Epoch 34/100\n",
      "8000/8000 [==============================] - 1s 75us/sample - loss: 0.3699 - accuracy: 0.8428\n",
      "Epoch 35/100\n",
      "8000/8000 [==============================] - 1s 64us/sample - loss: 0.3649 - accuracy: 0.8446\n",
      "Epoch 36/100\n",
      "8000/8000 [==============================] - 1s 66us/sample - loss: 0.3607 - accuracy: 0.8485\n",
      "Epoch 37/100\n",
      "8000/8000 [==============================] - 1s 68us/sample - loss: 0.3573 - accuracy: 0.8494\n",
      "Epoch 38/100\n",
      "8000/8000 [==============================] - 1s 68us/sample - loss: 0.3540 - accuracy: 0.8514\n",
      "Epoch 39/100\n",
      "8000/8000 [==============================] - 0s 60us/sample - loss: 0.3513 - accuracy: 0.8565\n",
      "Epoch 40/100\n",
      "8000/8000 [==============================] - 0s 59us/sample - loss: 0.3489 - accuracy: 0.8570\n",
      "Epoch 41/100\n",
      "8000/8000 [==============================] - 1s 69us/sample - loss: 0.3476 - accuracy: 0.8568\n",
      "Epoch 42/100\n",
      "8000/8000 [==============================] - 1s 71us/sample - loss: 0.3462 - accuracy: 0.8581\n",
      "Epoch 43/100\n",
      "8000/8000 [==============================] - 1s 71us/sample - loss: 0.3448 - accuracy: 0.8571\n",
      "Epoch 44/100\n",
      "8000/8000 [==============================] - 1s 70us/sample - loss: 0.3439 - accuracy: 0.8584\n",
      "Epoch 45/100\n",
      "8000/8000 [==============================] - 1s 72us/sample - loss: 0.3434 - accuracy: 0.8583\n",
      "Epoch 46/100\n",
      "8000/8000 [==============================] - 1s 66us/sample - loss: 0.3423 - accuracy: 0.8585\n",
      "Epoch 47/100\n",
      "8000/8000 [==============================] - 1s 77us/sample - loss: 0.3418 - accuracy: 0.8581\n",
      "Epoch 48/100\n",
      "8000/8000 [==============================] - 0s 56us/sample - loss: 0.3416 - accuracy: 0.8581\n",
      "Epoch 49/100\n",
      "8000/8000 [==============================] - ETA: 0s - loss: 0.3401 - accuracy: 0.85 - 0s 61us/sample - loss: 0.3408 - accuracy: 0.8589\n",
      "Epoch 50/100\n",
      "8000/8000 [==============================] - 1s 74us/sample - loss: 0.3406 - accuracy: 0.8587\n",
      "Epoch 51/100\n",
      "8000/8000 [==============================] - 1s 77us/sample - loss: 0.3399 - accuracy: 0.8589\n",
      "Epoch 52/100\n",
      "8000/8000 [==============================] - 1s 65us/sample - loss: 0.3397 - accuracy: 0.8595\n",
      "Epoch 53/100\n",
      "8000/8000 [==============================] - 1s 69us/sample - loss: 0.3391 - accuracy: 0.8599\n",
      "Epoch 54/100\n",
      "8000/8000 [==============================] - 1s 69us/sample - loss: 0.3392 - accuracy: 0.8608\n",
      "Epoch 55/100\n",
      "8000/8000 [==============================] - 1s 71us/sample - loss: 0.3388 - accuracy: 0.8615\n",
      "Epoch 56/100\n",
      "8000/8000 [==============================] - 1s 69us/sample - loss: 0.3382 - accuracy: 0.8612\n",
      "Epoch 57/100\n",
      "8000/8000 [==============================] - 1s 69us/sample - loss: 0.3382 - accuracy: 0.8612\n",
      "Epoch 58/100\n",
      "8000/8000 [==============================] - 1s 69us/sample - loss: 0.3380 - accuracy: 0.8605\n",
      "Epoch 59/100\n",
      "8000/8000 [==============================] - 1s 66us/sample - loss: 0.3376 - accuracy: 0.8601\n",
      "Epoch 60/100\n",
      "8000/8000 [==============================] - 1s 67us/sample - loss: 0.3373 - accuracy: 0.8615\n",
      "Epoch 61/100\n",
      "8000/8000 [==============================] - 1s 66us/sample - loss: 0.3371 - accuracy: 0.8601\n",
      "Epoch 62/100\n",
      "8000/8000 [==============================] - 1s 67us/sample - loss: 0.3370 - accuracy: 0.8612\n",
      "Epoch 63/100\n",
      "8000/8000 [==============================] - 1s 67us/sample - loss: 0.3366 - accuracy: 0.8609\n",
      "Epoch 64/100\n",
      "8000/8000 [==============================] - 1s 66us/sample - loss: 0.3364 - accuracy: 0.8614\n",
      "Epoch 65/100\n",
      "8000/8000 [==============================] - 1s 66us/sample - loss: 0.3367 - accuracy: 0.8596\n",
      "Epoch 66/100\n",
      "8000/8000 [==============================] - 1s 66us/sample - loss: 0.3358 - accuracy: 0.8605\n",
      "Epoch 67/100\n",
      "8000/8000 [==============================] - 1s 73us/sample - loss: 0.3359 - accuracy: 0.8611\n",
      "Epoch 68/100\n",
      "8000/8000 [==============================] - 1s 69us/sample - loss: 0.3359 - accuracy: 0.8612\n",
      "Epoch 69/100\n",
      "8000/8000 [==============================] - 1s 65us/sample - loss: 0.3356 - accuracy: 0.8602\n",
      "Epoch 70/100\n",
      "8000/8000 [==============================] - 1s 66us/sample - loss: 0.3357 - accuracy: 0.8612\n",
      "Epoch 71/100\n",
      "8000/8000 [==============================] - 1s 66us/sample - loss: 0.3354 - accuracy: 0.8606\n",
      "Epoch 72/100\n",
      "8000/8000 [==============================] - 1s 66us/sample - loss: 0.3354 - accuracy: 0.8605\n",
      "Epoch 73/100\n",
      "8000/8000 [==============================] - 0s 60us/sample - loss: 0.3351 - accuracy: 0.8608\n",
      "Epoch 74/100\n",
      "8000/8000 [==============================] - 1s 73us/sample - loss: 0.3354 - accuracy: 0.8601\n",
      "Epoch 75/100\n",
      "8000/8000 [==============================] - 0s 56us/sample - loss: 0.3353 - accuracy: 0.8614\n",
      "Epoch 76/100\n",
      "8000/8000 [==============================] - 1s 73us/sample - loss: 0.3348 - accuracy: 0.8606\n",
      "Epoch 77/100\n"
     ]
    },
    {
     "name": "stdout",
     "output_type": "stream",
     "text": [
      "8000/8000 [==============================] - 1s 75us/sample - loss: 0.3350 - accuracy: 0.8605\n",
      "Epoch 78/100\n",
      "8000/8000 [==============================] - 1s 73us/sample - loss: 0.3349 - accuracy: 0.8611\n",
      "Epoch 79/100\n",
      "8000/8000 [==============================] - 1s 72us/sample - loss: 0.3348 - accuracy: 0.8614\n",
      "Epoch 80/100\n",
      "8000/8000 [==============================] - 1s 72us/sample - loss: 0.3343 - accuracy: 0.8627\n",
      "Epoch 81/100\n",
      "8000/8000 [==============================] - 1s 79us/sample - loss: 0.3343 - accuracy: 0.8610\n",
      "Epoch 82/100\n",
      "8000/8000 [==============================] - 1s 65us/sample - loss: 0.3347 - accuracy: 0.8614\n",
      "Epoch 83/100\n",
      "8000/8000 [==============================] - 1s 64us/sample - loss: 0.3345 - accuracy: 0.8609\n",
      "Epoch 84/100\n",
      "8000/8000 [==============================] - 0s 47us/sample - loss: 0.3342 - accuracy: 0.8612\n",
      "Epoch 85/100\n",
      "8000/8000 [==============================] - 1s 63us/sample - loss: 0.3342 - accuracy: 0.8615\n",
      "Epoch 86/100\n",
      "8000/8000 [==============================] - 1s 70us/sample - loss: 0.3345 - accuracy: 0.8614\n",
      "Epoch 87/100\n",
      "8000/8000 [==============================] - 1s 73us/sample - loss: 0.3342 - accuracy: 0.8620\n",
      "Epoch 88/100\n",
      "8000/8000 [==============================] - 1s 70us/sample - loss: 0.3338 - accuracy: 0.8611\n",
      "Epoch 89/100\n",
      "8000/8000 [==============================] - 1s 83us/sample - loss: 0.3343 - accuracy: 0.8630\n",
      "Epoch 90/100\n",
      "8000/8000 [==============================] - 1s 65us/sample - loss: 0.3340 - accuracy: 0.8622\n",
      "Epoch 91/100\n",
      "8000/8000 [==============================] - 0s 51us/sample - loss: 0.3339 - accuracy: 0.8615\n",
      "Epoch 92/100\n",
      "8000/8000 [==============================] - 1s 68us/sample - loss: 0.3338 - accuracy: 0.8619\n",
      "Epoch 93/100\n",
      "8000/8000 [==============================] - 1s 71us/sample - loss: 0.3337 - accuracy: 0.8637\n",
      "Epoch 94/100\n",
      "8000/8000 [==============================] - 1s 74us/sample - loss: 0.3338 - accuracy: 0.8616\n",
      "Epoch 95/100\n",
      "8000/8000 [==============================] - 1s 70us/sample - loss: 0.3337 - accuracy: 0.8621\n",
      "Epoch 96/100\n",
      "8000/8000 [==============================] - 1s 74us/sample - loss: 0.3339 - accuracy: 0.8616\n",
      "Epoch 97/100\n",
      "8000/8000 [==============================] - 1s 70us/sample - loss: 0.3336 - accuracy: 0.8618\n",
      "Epoch 98/100\n",
      "8000/8000 [==============================] - 1s 72us/sample - loss: 0.3337 - accuracy: 0.8610\n",
      "Epoch 99/100\n",
      "8000/8000 [==============================] - 1s 73us/sample - loss: 0.3338 - accuracy: 0.8612\n",
      "Epoch 100/100\n",
      "8000/8000 [==============================] - 1s 71us/sample - loss: 0.3337 - accuracy: 0.8620\n"
     ]
    },
    {
     "data": {
      "text/plain": [
       "<tensorflow.python.keras.callbacks.History at 0x296f27ac390>"
      ]
     },
     "execution_count": 73,
     "metadata": {},
     "output_type": "execute_result"
    }
   ],
   "source": [
    "ann.fit(x_train, y_train, batch_size = 32, epochs = 100)"
   ]
  },
  {
   "cell_type": "markdown",
   "metadata": {},
   "source": [
    "**3. Use ANN model to predict if the customer with the following informations will leave the bank:**"
   ]
  },
  {
   "cell_type": "markdown",
   "metadata": {},
   "source": [
    "**- Ceography:** France<br>\n",
    "**- Credit Score:** 600<br>\n",
    "**- Gender:** Male<br>\n",
    "**- Age:** 40<br>\n",
    "**- Tenure:** 3 years<br>\n",
    "**- Balance:** 60000<br>\n",
    "**- Number of Products:** 2<br>\n",
    "**- Does this customer have a credit cart?** Yes<br>\n",
    "**- Is this customer an active member?** Yes<br>\n",
    "**- Estimate Salary:** $ 50000<br>"
   ]
  },
  {
   "cell_type": "markdown",
   "metadata": {},
   "source": [
    "**So, should we say goodbye to that customer or not?**"
   ]
  },
  {
   "cell_type": "code",
   "execution_count": 93,
   "metadata": {},
   "outputs": [
    {
     "name": "stdout",
     "output_type": "stream",
     "text": [
      "probability: 0.023626970127224922\n",
      "final answer: False\n"
     ]
    }
   ],
   "source": [
    "example_predict = ann.predict(sc.transform([[1, 0, 0, 600, 1, 40, 3, 60000, 2, 1, 1, 50000]]))\n",
    "print('probability: {}'.format(example_predict[0][0]))\n",
    "print('final answer: {}'.format(example_predict[0][0]>0.5))"
   ]
  },
  {
   "cell_type": "markdown",
   "metadata": {},
   "source": [
    "**4. Evaluating the Model**"
   ]
  },
  {
   "cell_type": "code",
   "execution_count": 94,
   "metadata": {},
   "outputs": [
    {
     "data": {
      "text/plain": [
       "array([[0.2768205 ],\n",
       "       [0.33978817],\n",
       "       [0.12055765],\n",
       "       [0.03941661],\n",
       "       [0.051199  ],\n",
       "       [0.83619744]], dtype=float32)"
      ]
     },
     "execution_count": 94,
     "metadata": {},
     "output_type": "execute_result"
    }
   ],
   "source": [
    "y_predict = ann.predict(x_test)\n",
    "y_predict[:6]"
   ]
  },
  {
   "cell_type": "code",
   "execution_count": 95,
   "metadata": {},
   "outputs": [
    {
     "data": {
      "text/plain": [
       "array([[0, 0],\n",
       "       [0, 1],\n",
       "       [0, 0],\n",
       "       ...,\n",
       "       [0, 0],\n",
       "       [0, 0],\n",
       "       [0, 0]], dtype=int64)"
      ]
     },
     "execution_count": 95,
     "metadata": {},
     "output_type": "execute_result"
    }
   ],
   "source": [
    "# Change probability to binary value\n",
    "y_predict = (y_predict > 0.5)\n",
    "np.concatenate((y_predict.reshape(len(y_predict),1), y_test.reshape(len(y_test),1)), 1)"
   ]
  },
  {
   "cell_type": "code",
   "execution_count": 102,
   "metadata": {},
   "outputs": [
    {
     "data": {
      "text/plain": [
       "array([[False],\n",
       "       [False],\n",
       "       [False],\n",
       "       ...,\n",
       "       [False],\n",
       "       [False],\n",
       "       [False]])"
      ]
     },
     "execution_count": 102,
     "metadata": {},
     "output_type": "execute_result"
    }
   ],
   "source": [
    "y_predict"
   ]
  },
  {
   "cell_type": "code",
   "execution_count": 24,
   "metadata": {},
   "outputs": [],
   "source": [
    "from sklearn.metrics import confusion_matrix"
   ]
  },
  {
   "cell_type": "code",
   "execution_count": 25,
   "metadata": {},
   "outputs": [
    {
     "data": {
      "text/plain": [
       "array([[1504,   91],\n",
       "       [ 179,  226]], dtype=int64)"
      ]
     },
     "execution_count": 25,
     "metadata": {},
     "output_type": "execute_result"
    }
   ],
   "source": [
    "tn, fp, fn, tp = confusion_matrix(y_test, y_predict).ravel()\n",
    "confusion_matrix(y_test, y_predict)"
   ]
  },
  {
   "cell_type": "code",
   "execution_count": 26,
   "metadata": {},
   "outputs": [],
   "source": [
    "accuracy = (tn + tp) / (tn + fp + fn + tp)\n",
    "precision = tp / (fp + tp)\n",
    "recall = tp / (fn + tp)\n",
    "f1_score = (2 * precision * recall) / (precision + recall)"
   ]
  },
  {
   "cell_type": "code",
   "execution_count": 27,
   "metadata": {},
   "outputs": [
    {
     "name": "stdout",
     "output_type": "stream",
     "text": [
      "Accuracy: 0.865\n",
      "Precision: 0.7129337539432177\n",
      "Recall: 0.5580246913580247\n",
      "F1 Score: 0.6260387811634349\n"
     ]
    }
   ],
   "source": [
    "print('Accuracy: {}'.format(accuracy))\n",
    "print('Precision: {}'.format(precision))\n",
    "print('Recall: {}'.format(recall))\n",
    "print('F1 Score: {}'.format(f1_score))"
   ]
  }
 ],
 "metadata": {
  "kernelspec": {
   "display_name": "Python 3",
   "language": "python",
   "name": "python3"
  },
  "language_info": {
   "codemirror_mode": {
    "name": "ipython",
    "version": 3
   },
   "file_extension": ".py",
   "mimetype": "text/x-python",
   "name": "python",
   "nbconvert_exporter": "python",
   "pygments_lexer": "ipython3",
   "version": "3.7.3"
  }
 },
 "nbformat": 4,
 "nbformat_minor": 2
}
