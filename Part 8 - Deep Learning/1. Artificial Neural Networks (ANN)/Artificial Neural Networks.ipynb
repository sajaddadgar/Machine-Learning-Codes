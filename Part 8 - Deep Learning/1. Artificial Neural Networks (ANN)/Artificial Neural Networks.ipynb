{
 "cells": [
  {
   "cell_type": "markdown",
   "metadata": {},
   "source": [
    "# Artificial Neural Networks (ANN)"
   ]
  },
  {
   "cell_type": "markdown",
   "metadata": {},
   "source": [
    "**1. Data Preprocessing**"
   ]
  },
  {
   "cell_type": "code",
   "execution_count": 1,
   "metadata": {},
   "outputs": [],
   "source": [
    "import numpy as np\n",
    "import pandas as pd\n",
    "import tensorflow as tf"
   ]
  },
  {
   "cell_type": "code",
   "execution_count": 2,
   "metadata": {},
   "outputs": [],
   "source": [
    "import warnings\n",
    "warnings.filterwarnings('ignore')"
   ]
  },
  {
   "cell_type": "code",
   "execution_count": 3,
   "metadata": {},
   "outputs": [
    {
     "data": {
      "text/html": [
       "<div>\n",
       "<style scoped>\n",
       "    .dataframe tbody tr th:only-of-type {\n",
       "        vertical-align: middle;\n",
       "    }\n",
       "\n",
       "    .dataframe tbody tr th {\n",
       "        vertical-align: top;\n",
       "    }\n",
       "\n",
       "    .dataframe thead th {\n",
       "        text-align: right;\n",
       "    }\n",
       "</style>\n",
       "<table border=\"1\" class=\"dataframe\">\n",
       "  <thead>\n",
       "    <tr style=\"text-align: right;\">\n",
       "      <th></th>\n",
       "      <th>RowNumber</th>\n",
       "      <th>CustomerId</th>\n",
       "      <th>Surname</th>\n",
       "      <th>CreditScore</th>\n",
       "      <th>Geography</th>\n",
       "      <th>Gender</th>\n",
       "      <th>Age</th>\n",
       "      <th>Tenure</th>\n",
       "      <th>Balance</th>\n",
       "      <th>NumOfProducts</th>\n",
       "      <th>HasCrCard</th>\n",
       "      <th>IsActiveMember</th>\n",
       "      <th>EstimatedSalary</th>\n",
       "      <th>Exited</th>\n",
       "    </tr>\n",
       "  </thead>\n",
       "  <tbody>\n",
       "    <tr>\n",
       "      <th>0</th>\n",
       "      <td>1</td>\n",
       "      <td>15634602</td>\n",
       "      <td>Hargrave</td>\n",
       "      <td>619</td>\n",
       "      <td>France</td>\n",
       "      <td>Female</td>\n",
       "      <td>42</td>\n",
       "      <td>2</td>\n",
       "      <td>0.00</td>\n",
       "      <td>1</td>\n",
       "      <td>1</td>\n",
       "      <td>1</td>\n",
       "      <td>101348.88</td>\n",
       "      <td>1</td>\n",
       "    </tr>\n",
       "    <tr>\n",
       "      <th>1</th>\n",
       "      <td>2</td>\n",
       "      <td>15647311</td>\n",
       "      <td>Hill</td>\n",
       "      <td>608</td>\n",
       "      <td>Spain</td>\n",
       "      <td>Female</td>\n",
       "      <td>41</td>\n",
       "      <td>1</td>\n",
       "      <td>83807.86</td>\n",
       "      <td>1</td>\n",
       "      <td>0</td>\n",
       "      <td>1</td>\n",
       "      <td>112542.58</td>\n",
       "      <td>0</td>\n",
       "    </tr>\n",
       "    <tr>\n",
       "      <th>2</th>\n",
       "      <td>3</td>\n",
       "      <td>15619304</td>\n",
       "      <td>Onio</td>\n",
       "      <td>502</td>\n",
       "      <td>France</td>\n",
       "      <td>Female</td>\n",
       "      <td>42</td>\n",
       "      <td>8</td>\n",
       "      <td>159660.80</td>\n",
       "      <td>3</td>\n",
       "      <td>1</td>\n",
       "      <td>0</td>\n",
       "      <td>113931.57</td>\n",
       "      <td>1</td>\n",
       "    </tr>\n",
       "    <tr>\n",
       "      <th>3</th>\n",
       "      <td>4</td>\n",
       "      <td>15701354</td>\n",
       "      <td>Boni</td>\n",
       "      <td>699</td>\n",
       "      <td>France</td>\n",
       "      <td>Female</td>\n",
       "      <td>39</td>\n",
       "      <td>1</td>\n",
       "      <td>0.00</td>\n",
       "      <td>2</td>\n",
       "      <td>0</td>\n",
       "      <td>0</td>\n",
       "      <td>93826.63</td>\n",
       "      <td>0</td>\n",
       "    </tr>\n",
       "    <tr>\n",
       "      <th>4</th>\n",
       "      <td>5</td>\n",
       "      <td>15737888</td>\n",
       "      <td>Mitchell</td>\n",
       "      <td>850</td>\n",
       "      <td>Spain</td>\n",
       "      <td>Female</td>\n",
       "      <td>43</td>\n",
       "      <td>2</td>\n",
       "      <td>125510.82</td>\n",
       "      <td>1</td>\n",
       "      <td>1</td>\n",
       "      <td>1</td>\n",
       "      <td>79084.10</td>\n",
       "      <td>0</td>\n",
       "    </tr>\n",
       "  </tbody>\n",
       "</table>\n",
       "</div>"
      ],
      "text/plain": [
       "   RowNumber  CustomerId   Surname  CreditScore Geography  Gender  Age  \\\n",
       "0          1    15634602  Hargrave          619    France  Female   42   \n",
       "1          2    15647311      Hill          608     Spain  Female   41   \n",
       "2          3    15619304      Onio          502    France  Female   42   \n",
       "3          4    15701354      Boni          699    France  Female   39   \n",
       "4          5    15737888  Mitchell          850     Spain  Female   43   \n",
       "\n",
       "   Tenure    Balance  NumOfProducts  HasCrCard  IsActiveMember  \\\n",
       "0       2       0.00              1          1               1   \n",
       "1       1   83807.86              1          0               1   \n",
       "2       8  159660.80              3          1               0   \n",
       "3       1       0.00              2          0               0   \n",
       "4       2  125510.82              1          1               1   \n",
       "\n",
       "   EstimatedSalary  Exited  \n",
       "0        101348.88       1  \n",
       "1        112542.58       0  \n",
       "2        113931.57       1  \n",
       "3         93826.63       0  \n",
       "4         79084.10       0  "
      ]
     },
     "execution_count": 3,
     "metadata": {},
     "output_type": "execute_result"
    }
   ],
   "source": [
    "dataframe = pd.read_csv('Churn_Modelling.csv')\n",
    "dataframe.head(5)"
   ]
  },
  {
   "cell_type": "code",
   "execution_count": 4,
   "metadata": {},
   "outputs": [],
   "source": [
    "X = dataframe.iloc[:, 3:-1].values\n",
    "y = dataframe.iloc[:, -1].values"
   ]
  },
  {
   "cell_type": "markdown",
   "metadata": {},
   "source": [
    "**1.1. Encoding Categorical Data**"
   ]
  },
  {
   "cell_type": "code",
   "execution_count": 5,
   "metadata": {},
   "outputs": [],
   "source": [
    "from sklearn.preprocessing import LabelEncoder\n",
    "from sklearn.compose import ColumnTransformer\n",
    "from sklearn.preprocessing import OneHotEncoder"
   ]
  },
  {
   "cell_type": "markdown",
   "metadata": {},
   "source": [
    "**Gender:**"
   ]
  },
  {
   "cell_type": "code",
   "execution_count": 6,
   "metadata": {},
   "outputs": [],
   "source": [
    "label_encoder = LabelEncoder()"
   ]
  },
  {
   "cell_type": "code",
   "execution_count": 7,
   "metadata": {},
   "outputs": [],
   "source": [
    "X[:, 2] = label_encoder.fit_transform(X[:, 2])"
   ]
  },
  {
   "cell_type": "markdown",
   "metadata": {},
   "source": [
    "**Geography:**"
   ]
  },
  {
   "cell_type": "code",
   "execution_count": 8,
   "metadata": {},
   "outputs": [],
   "source": [
    "column_transformer = ColumnTransformer([('encoder', OneHotEncoder(), [1])], remainder='passthrough')"
   ]
  },
  {
   "cell_type": "code",
   "execution_count": 9,
   "metadata": {},
   "outputs": [],
   "source": [
    "X = np.array(column_transformer.fit_transform(X))"
   ]
  },
  {
   "cell_type": "code",
   "execution_count": 10,
   "metadata": {},
   "outputs": [],
   "source": [
    "# Remove one column to prevent dummy trap\n",
    "# But libraries handle this\n",
    "X = X[:, 1:]"
   ]
  },
  {
   "cell_type": "code",
   "execution_count": 11,
   "metadata": {},
   "outputs": [
    {
     "data": {
      "text/html": [
       "<div>\n",
       "<style scoped>\n",
       "    .dataframe tbody tr th:only-of-type {\n",
       "        vertical-align: middle;\n",
       "    }\n",
       "\n",
       "    .dataframe tbody tr th {\n",
       "        vertical-align: top;\n",
       "    }\n",
       "\n",
       "    .dataframe thead th {\n",
       "        text-align: right;\n",
       "    }\n",
       "</style>\n",
       "<table border=\"1\" class=\"dataframe\">\n",
       "  <thead>\n",
       "    <tr style=\"text-align: right;\">\n",
       "      <th></th>\n",
       "      <th>0</th>\n",
       "      <th>1</th>\n",
       "      <th>2</th>\n",
       "      <th>3</th>\n",
       "      <th>4</th>\n",
       "      <th>5</th>\n",
       "      <th>6</th>\n",
       "      <th>7</th>\n",
       "      <th>8</th>\n",
       "      <th>9</th>\n",
       "      <th>10</th>\n",
       "    </tr>\n",
       "  </thead>\n",
       "  <tbody>\n",
       "    <tr>\n",
       "      <th>0</th>\n",
       "      <td>0</td>\n",
       "      <td>0</td>\n",
       "      <td>619</td>\n",
       "      <td>0</td>\n",
       "      <td>42</td>\n",
       "      <td>2</td>\n",
       "      <td>0</td>\n",
       "      <td>1</td>\n",
       "      <td>1</td>\n",
       "      <td>1</td>\n",
       "      <td>101349</td>\n",
       "    </tr>\n",
       "    <tr>\n",
       "      <th>1</th>\n",
       "      <td>0</td>\n",
       "      <td>1</td>\n",
       "      <td>608</td>\n",
       "      <td>0</td>\n",
       "      <td>41</td>\n",
       "      <td>1</td>\n",
       "      <td>83807.9</td>\n",
       "      <td>1</td>\n",
       "      <td>0</td>\n",
       "      <td>1</td>\n",
       "      <td>112543</td>\n",
       "    </tr>\n",
       "    <tr>\n",
       "      <th>2</th>\n",
       "      <td>0</td>\n",
       "      <td>0</td>\n",
       "      <td>502</td>\n",
       "      <td>0</td>\n",
       "      <td>42</td>\n",
       "      <td>8</td>\n",
       "      <td>159661</td>\n",
       "      <td>3</td>\n",
       "      <td>1</td>\n",
       "      <td>0</td>\n",
       "      <td>113932</td>\n",
       "    </tr>\n",
       "    <tr>\n",
       "      <th>3</th>\n",
       "      <td>0</td>\n",
       "      <td>0</td>\n",
       "      <td>699</td>\n",
       "      <td>0</td>\n",
       "      <td>39</td>\n",
       "      <td>1</td>\n",
       "      <td>0</td>\n",
       "      <td>2</td>\n",
       "      <td>0</td>\n",
       "      <td>0</td>\n",
       "      <td>93826.6</td>\n",
       "    </tr>\n",
       "    <tr>\n",
       "      <th>4</th>\n",
       "      <td>0</td>\n",
       "      <td>1</td>\n",
       "      <td>850</td>\n",
       "      <td>0</td>\n",
       "      <td>43</td>\n",
       "      <td>2</td>\n",
       "      <td>125511</td>\n",
       "      <td>1</td>\n",
       "      <td>1</td>\n",
       "      <td>1</td>\n",
       "      <td>79084.1</td>\n",
       "    </tr>\n",
       "  </tbody>\n",
       "</table>\n",
       "</div>"
      ],
      "text/plain": [
       "  0  1    2  3   4  5        6  7  8  9        10\n",
       "0  0  0  619  0  42  2        0  1  1  1   101349\n",
       "1  0  1  608  0  41  1  83807.9  1  0  1   112543\n",
       "2  0  0  502  0  42  8   159661  3  1  0   113932\n",
       "3  0  0  699  0  39  1        0  2  0  0  93826.6\n",
       "4  0  1  850  0  43  2   125511  1  1  1  79084.1"
      ]
     },
     "execution_count": 11,
     "metadata": {},
     "output_type": "execute_result"
    }
   ],
   "source": [
    "pd.DataFrame(X[:5, :])"
   ]
  },
  {
   "cell_type": "markdown",
   "metadata": {},
   "source": [
    "**1.2. Feature Scaling**"
   ]
  },
  {
   "cell_type": "code",
   "execution_count": 12,
   "metadata": {},
   "outputs": [],
   "source": [
    "from sklearn.preprocessing import StandardScaler"
   ]
  },
  {
   "cell_type": "code",
   "execution_count": 13,
   "metadata": {},
   "outputs": [],
   "source": [
    "sc = StandardScaler()\n",
    "X = sc.fit_transform(X)"
   ]
  },
  {
   "cell_type": "markdown",
   "metadata": {},
   "source": [
    "**1.3. Splitting Data to Training Set and Test Set**"
   ]
  },
  {
   "cell_type": "code",
   "execution_count": 14,
   "metadata": {},
   "outputs": [],
   "source": [
    "from sklearn.model_selection import train_test_split"
   ]
  },
  {
   "cell_type": "code",
   "execution_count": 15,
   "metadata": {},
   "outputs": [],
   "source": [
    "x_train, x_test, y_train, y_test = train_test_split(X, y, test_size = 0.2, random_state = 0)"
   ]
  },
  {
   "cell_type": "markdown",
   "metadata": {},
   "source": [
    "**2. Artificial Neural Network**"
   ]
  },
  {
   "cell_type": "markdown",
   "metadata": {},
   "source": [
    "**Step 1: Create Neural Network**"
   ]
  },
  {
   "cell_type": "markdown",
   "metadata": {},
   "source": [
    "**Intializing the ANN**"
   ]
  },
  {
   "cell_type": "code",
   "execution_count": 16,
   "metadata": {},
   "outputs": [],
   "source": [
    "ann = tf.keras.models.Sequential()"
   ]
  },
  {
   "cell_type": "markdown",
   "metadata": {},
   "source": [
    "**Adding the Input Layer and the First Hidden Layer**"
   ]
  },
  {
   "cell_type": "code",
   "execution_count": 17,
   "metadata": {},
   "outputs": [],
   "source": [
    "# number of units is ART, and you have to experiment and choose different number of units to get the best model\n",
    "ann.add(tf.keras.layers.Dense(units = 6, activation = 'relu'))"
   ]
  },
  {
   "cell_type": "markdown",
   "metadata": {},
   "source": [
    "**Adding the Second Hidden Layer**"
   ]
  },
  {
   "cell_type": "code",
   "execution_count": 18,
   "metadata": {},
   "outputs": [],
   "source": [
    "ann.add(tf.keras.layers.Dense(units = 6, activation = 'relu'))"
   ]
  },
  {
   "cell_type": "markdown",
   "metadata": {},
   "source": [
    "**Adding the Output Layer**"
   ]
  },
  {
   "cell_type": "code",
   "execution_count": 19,
   "metadata": {},
   "outputs": [],
   "source": [
    "ann.add(tf.keras.layers.Dense(units = 1, activation = 'sigmoid'))"
   ]
  },
  {
   "cell_type": "markdown",
   "metadata": {},
   "source": [
    "**Step 2: Training the ANN**"
   ]
  },
  {
   "cell_type": "markdown",
   "metadata": {},
   "source": [
    "**Compile**"
   ]
  },
  {
   "cell_type": "code",
   "execution_count": 20,
   "metadata": {},
   "outputs": [],
   "source": [
    "# Stochastic gradient descent optimizer: adam\n",
    "# Logarithmic Loss:\n",
    "# if dependent variable has binary outcome, Logarithmic Loss = binary cross entropy loss\n",
    "# if dependent variable has more than two outcome, Logarithmic Loss = categorical cross entropy loss \n",
    "ann.compile(optimizer = 'adam', loss = 'binary_crossentropy', metrics = ['accuracy'])"
   ]
  },
  {
   "cell_type": "markdown",
   "metadata": {},
   "source": [
    "**Training on the Training Set**"
   ]
  },
  {
   "cell_type": "code",
   "execution_count": 21,
   "metadata": {},
   "outputs": [
    {
     "name": "stdout",
     "output_type": "stream",
     "text": [
      "Train on 8000 samples\n",
      "Epoch 1/100\n",
      "8000/8000 [==============================] - 1s 139us/sample - loss: 0.5196 - accuracy: 0.7911\n",
      "Epoch 2/100\n",
      "8000/8000 [==============================] - 1s 66us/sample - loss: 0.4630 - accuracy: 0.7966\n",
      "Epoch 3/100\n",
      "8000/8000 [==============================] - 1s 73us/sample - loss: 0.4423 - accuracy: 0.8036\n",
      "Epoch 4/100\n",
      "8000/8000 [==============================] - 1s 72us/sample - loss: 0.4303 - accuracy: 0.8080\n",
      "Epoch 5/100\n",
      "8000/8000 [==============================] - 1s 69us/sample - loss: 0.4225 - accuracy: 0.8099\n",
      "Epoch 6/100\n",
      "8000/8000 [==============================] - 1s 73us/sample - loss: 0.4159 - accuracy: 0.8150\n",
      "Epoch 7/100\n",
      "8000/8000 [==============================] - 1s 70us/sample - loss: 0.4094 - accuracy: 0.8192\n",
      "Epoch 8/100\n",
      "8000/8000 [==============================] - 1s 71us/sample - loss: 0.4028 - accuracy: 0.8249\n",
      "Epoch 9/100\n",
      "8000/8000 [==============================] - 1s 68us/sample - loss: 0.3958 - accuracy: 0.8294\n",
      "Epoch 10/100\n",
      "8000/8000 [==============================] - 1s 66us/sample - loss: 0.3889 - accuracy: 0.8330\n",
      "Epoch 11/100\n",
      "8000/8000 [==============================] - 1s 66us/sample - loss: 0.3824 - accuracy: 0.8354\n",
      "Epoch 12/100\n",
      "8000/8000 [==============================] - 1s 82us/sample - loss: 0.3761 - accuracy: 0.8394\n",
      "Epoch 13/100\n",
      "8000/8000 [==============================] - 0s 56us/sample - loss: 0.3695 - accuracy: 0.8428\n",
      "Epoch 14/100\n",
      "8000/8000 [==============================] - 1s 70us/sample - loss: 0.3633 - accuracy: 0.8480\n",
      "Epoch 15/100\n",
      "8000/8000 [==============================] - 1s 66us/sample - loss: 0.3582 - accuracy: 0.8516\n",
      "Epoch 16/100\n",
      "8000/8000 [==============================] - 1s 75us/sample - loss: 0.3542 - accuracy: 0.8526\n",
      "Epoch 17/100\n",
      "8000/8000 [==============================] - 1s 72us/sample - loss: 0.3513 - accuracy: 0.8533\n",
      "Epoch 18/100\n",
      "8000/8000 [==============================] - 1s 78us/sample - loss: 0.3492 - accuracy: 0.8530\n",
      "Epoch 19/100\n",
      "8000/8000 [==============================] - 1s 74us/sample - loss: 0.3471 - accuracy: 0.8562\n",
      "Epoch 20/100\n",
      "8000/8000 [==============================] - 1s 76us/sample - loss: 0.3455 - accuracy: 0.8554\n",
      "Epoch 21/100\n",
      "8000/8000 [==============================] - 1s 70us/sample - loss: 0.3441 - accuracy: 0.8568\n",
      "Epoch 22/100\n",
      "8000/8000 [==============================] - 0s 44us/sample - loss: 0.3432 - accuracy: 0.8568\n",
      "Epoch 23/100\n",
      "8000/8000 [==============================] - 0s 46us/sample - loss: 0.3417 - accuracy: 0.8575\n",
      "Epoch 24/100\n",
      "8000/8000 [==============================] - 0s 60us/sample - loss: 0.3407 - accuracy: 0.8576\n",
      "Epoch 25/100\n",
      "8000/8000 [==============================] - 0s 48us/sample - loss: 0.3399 - accuracy: 0.8585\n",
      "Epoch 26/100\n",
      "8000/8000 [==============================] - 1s 66us/sample - loss: 0.3392 - accuracy: 0.8595\n",
      "Epoch 27/100\n",
      "8000/8000 [==============================] - 1s 72us/sample - loss: 0.3384 - accuracy: 0.8594\n",
      "Epoch 28/100\n",
      "8000/8000 [==============================] - 1s 70us/sample - loss: 0.3377 - accuracy: 0.8595\n",
      "Epoch 29/100\n",
      "8000/8000 [==============================] - 1s 70us/sample - loss: 0.3375 - accuracy: 0.8589\n",
      "Epoch 30/100\n",
      "8000/8000 [==============================] - 1s 69us/sample - loss: 0.3369 - accuracy: 0.8611\n",
      "Epoch 31/100\n",
      "8000/8000 [==============================] - 1s 70us/sample - loss: 0.3361 - accuracy: 0.8612\n",
      "Epoch 32/100\n",
      "8000/8000 [==============================] - 1s 69us/sample - loss: 0.3353 - accuracy: 0.8616\n",
      "Epoch 33/100\n",
      "8000/8000 [==============================] - 1s 66us/sample - loss: 0.3351 - accuracy: 0.8606\n",
      "Epoch 34/100\n",
      "8000/8000 [==============================] - 1s 67us/sample - loss: 0.3348 - accuracy: 0.8614\n",
      "Epoch 35/100\n",
      "8000/8000 [==============================] - 1s 73us/sample - loss: 0.3346 - accuracy: 0.8620\n",
      "Epoch 36/100\n",
      "8000/8000 [==============================] - 1s 82us/sample - loss: 0.3343 - accuracy: 0.8604\n",
      "Epoch 37/100\n",
      "8000/8000 [==============================] - 1s 70us/sample - loss: 0.3340 - accuracy: 0.8629\n",
      "Epoch 38/100\n",
      "8000/8000 [==============================] - 0s 54us/sample - loss: 0.3338 - accuracy: 0.8622\n",
      "Epoch 39/100\n",
      "8000/8000 [==============================] - 0s 60us/sample - loss: 0.3338 - accuracy: 0.8620\n",
      "Epoch 40/100\n",
      "8000/8000 [==============================] - 1s 95us/sample - loss: 0.3335 - accuracy: 0.8615\n",
      "Epoch 41/100\n",
      "8000/8000 [==============================] - 1s 75us/sample - loss: 0.3332 - accuracy: 0.8625\n",
      "Epoch 42/100\n",
      "8000/8000 [==============================] - 1s 79us/sample - loss: 0.3329 - accuracy: 0.8614\n",
      "Epoch 43/100\n",
      "8000/8000 [==============================] - 0s 59us/sample - loss: 0.3331 - accuracy: 0.8622\n",
      "Epoch 44/100\n",
      "8000/8000 [==============================] - 1s 73us/sample - loss: 0.3328 - accuracy: 0.8619\n",
      "Epoch 45/100\n",
      "8000/8000 [==============================] - 1s 68us/sample - loss: 0.3328 - accuracy: 0.8610\n",
      "Epoch 46/100\n",
      "8000/8000 [==============================] - 1s 81us/sample - loss: 0.3320 - accuracy: 0.8625\n",
      "Epoch 47/100\n",
      "8000/8000 [==============================] - 1s 83us/sample - loss: 0.3317 - accuracy: 0.8633\n",
      "Epoch 48/100\n",
      "8000/8000 [==============================] - 1s 72us/sample - loss: 0.3321 - accuracy: 0.8621\n",
      "Epoch 49/100\n",
      "8000/8000 [==============================] - 1s 70us/sample - loss: 0.3319 - accuracy: 0.8622\n",
      "Epoch 50/100\n",
      "8000/8000 [==============================] - 1s 70us/sample - loss: 0.3314 - accuracy: 0.8636\n",
      "Epoch 51/100\n",
      "8000/8000 [==============================] - 1s 65us/sample - loss: 0.3309 - accuracy: 0.8635\n",
      "Epoch 52/100\n",
      "8000/8000 [==============================] - 1s 69us/sample - loss: 0.3311 - accuracy: 0.8636\n",
      "Epoch 53/100\n",
      "8000/8000 [==============================] - 1s 70us/sample - loss: 0.3312 - accuracy: 0.8624\n",
      "Epoch 54/100\n",
      "8000/8000 [==============================] - 1s 69us/sample - loss: 0.3308 - accuracy: 0.8625\n",
      "Epoch 55/100\n",
      "8000/8000 [==============================] - 1s 68us/sample - loss: 0.3308 - accuracy: 0.8630\n",
      "Epoch 56/100\n",
      "8000/8000 [==============================] - 1s 67us/sample - loss: 0.3305 - accuracy: 0.8634\n",
      "Epoch 57/100\n",
      "8000/8000 [==============================] - 1s 69us/sample - loss: 0.3305 - accuracy: 0.8622\n",
      "Epoch 58/100\n",
      "8000/8000 [==============================] - 1s 67us/sample - loss: 0.3306 - accuracy: 0.8641\n",
      "Epoch 59/100\n",
      "8000/8000 [==============================] - 1s 66us/sample - loss: 0.3302 - accuracy: 0.8627\n",
      "Epoch 60/100\n",
      "8000/8000 [==============================] - 1s 66us/sample - loss: 0.3305 - accuracy: 0.8615\n",
      "Epoch 61/100\n",
      "8000/8000 [==============================] - 1s 73us/sample - loss: 0.3300 - accuracy: 0.8629\n",
      "Epoch 62/100\n",
      "8000/8000 [==============================] - 1s 91us/sample - loss: 0.3304 - accuracy: 0.8637\n",
      "Epoch 63/100\n",
      "8000/8000 [==============================] - 1s 66us/sample - loss: 0.3301 - accuracy: 0.8635\n",
      "Epoch 64/100\n",
      "8000/8000 [==============================] - 1s 67us/sample - loss: 0.3298 - accuracy: 0.8634\n",
      "Epoch 65/100\n",
      "8000/8000 [==============================] - 0s 59us/sample - loss: 0.3301 - accuracy: 0.8631\n",
      "Epoch 66/100\n",
      "8000/8000 [==============================] - 1s 84us/sample - loss: 0.3300 - accuracy: 0.8640\n",
      "Epoch 67/100\n",
      "8000/8000 [==============================] - 1s 97us/sample - loss: 0.3297 - accuracy: 0.8630\n",
      "Epoch 68/100\n",
      "8000/8000 [==============================] - 1s 69us/sample - loss: 0.3295 - accuracy: 0.8643\n",
      "Epoch 69/100\n",
      "8000/8000 [==============================] - 1s 68us/sample - loss: 0.3298 - accuracy: 0.8637\n",
      "Epoch 70/100\n",
      "8000/8000 [==============================] - 1s 73us/sample - loss: 0.3296 - accuracy: 0.8644\n",
      "Epoch 71/100\n",
      "8000/8000 [==============================] - 1s 70us/sample - loss: 0.3293 - accuracy: 0.8621\n",
      "Epoch 72/100\n",
      "8000/8000 [==============================] - 1s 66us/sample - loss: 0.3296 - accuracy: 0.8633\n",
      "Epoch 73/100\n",
      "8000/8000 [==============================] - 1s 114us/sample - loss: 0.3294 - accuracy: 0.8635\n",
      "Epoch 74/100\n",
      "8000/8000 [==============================] - 1s 76us/sample - loss: 0.3295 - accuracy: 0.8630\n",
      "Epoch 75/100\n",
      "8000/8000 [==============================] - 1s 74us/sample - loss: 0.3292 - accuracy: 0.8639\n",
      "Epoch 76/100\n",
      "8000/8000 [==============================] - 1s 65us/sample - loss: 0.3290 - accuracy: 0.8646\n",
      "Epoch 77/100\n"
     ]
    },
    {
     "name": "stdout",
     "output_type": "stream",
     "text": [
      "8000/8000 [==============================] - 1s 68us/sample - loss: 0.3292 - accuracy: 0.8645\n",
      "Epoch 78/100\n",
      "8000/8000 [==============================] - 1s 68us/sample - loss: 0.3294 - accuracy: 0.8651\n",
      "Epoch 79/100\n",
      "8000/8000 [==============================] - 0s 60us/sample - loss: 0.3288 - accuracy: 0.8645\n",
      "Epoch 80/100\n",
      "8000/8000 [==============================] - 1s 74us/sample - loss: 0.3291 - accuracy: 0.8643\n",
      "Epoch 81/100\n",
      "8000/8000 [==============================] - 1s 90us/sample - loss: 0.3289 - accuracy: 0.8658\n",
      "Epoch 82/100\n",
      "8000/8000 [==============================] - 1s 81us/sample - loss: 0.3287 - accuracy: 0.8641\n",
      "Epoch 83/100\n",
      "8000/8000 [==============================] - 1s 64us/sample - loss: 0.3286 - accuracy: 0.8670\n",
      "Epoch 84/100\n",
      "8000/8000 [==============================] - 1s 93us/sample - loss: 0.3290 - accuracy: 0.8656\n",
      "Epoch 85/100\n",
      "8000/8000 [==============================] - 0s 48us/sample - loss: 0.3285 - accuracy: 0.8645\n",
      "Epoch 86/100\n",
      "8000/8000 [==============================] - 0s 51us/sample - loss: 0.3286 - accuracy: 0.8645\n",
      "Epoch 87/100\n",
      "8000/8000 [==============================] - 1s 79us/sample - loss: 0.3291 - accuracy: 0.8630\n",
      "Epoch 88/100\n",
      "8000/8000 [==============================] - ETA: 0s - loss: 0.3287 - accuracy: 0.86 - 0s 62us/sample - loss: 0.3284 - accuracy: 0.8648\n",
      "Epoch 89/100\n",
      "8000/8000 [==============================] - 0s 56us/sample - loss: 0.3285 - accuracy: 0.8649\n",
      "Epoch 90/100\n",
      "8000/8000 [==============================] - 0s 56us/sample - loss: 0.3281 - accuracy: 0.8654\n",
      "Epoch 91/100\n",
      "8000/8000 [==============================] - 0s 43us/sample - loss: 0.3281 - accuracy: 0.8635\n",
      "Epoch 92/100\n",
      "8000/8000 [==============================] - 0s 60us/sample - loss: 0.3284 - accuracy: 0.8649\n",
      "Epoch 93/100\n",
      "8000/8000 [==============================] - 1s 68us/sample - loss: 0.3282 - accuracy: 0.8652\n",
      "Epoch 94/100\n",
      "8000/8000 [==============================] - 1s 70us/sample - loss: 0.3280 - accuracy: 0.8661\n",
      "Epoch 95/100\n",
      "8000/8000 [==============================] - 1s 77us/sample - loss: 0.3280 - accuracy: 0.8652\n",
      "Epoch 96/100\n",
      "8000/8000 [==============================] - 1s 77us/sample - loss: 0.3277 - accuracy: 0.8669\n",
      "Epoch 97/100\n",
      "8000/8000 [==============================] - 1s 81us/sample - loss: 0.3283 - accuracy: 0.8644\n",
      "Epoch 98/100\n",
      "8000/8000 [==============================] - 0s 60us/sample - loss: 0.3279 - accuracy: 0.8654\n",
      "Epoch 99/100\n",
      "8000/8000 [==============================] - 0s 61us/sample - loss: 0.3277 - accuracy: 0.8656\n",
      "Epoch 100/100\n",
      "8000/8000 [==============================] - 0s 60us/sample - loss: 0.3280 - accuracy: 0.8654\n"
     ]
    },
    {
     "data": {
      "text/plain": [
       "<tensorflow.python.keras.callbacks.History at 0x1b8561d2630>"
      ]
     },
     "execution_count": 21,
     "metadata": {},
     "output_type": "execute_result"
    }
   ],
   "source": [
    "ann.fit(x_train, y_train, batch_size = 32, epochs = 100)"
   ]
  },
  {
   "cell_type": "markdown",
   "metadata": {},
   "source": [
    "**3. Evaluating the Model**"
   ]
  },
  {
   "cell_type": "code",
   "execution_count": 29,
   "metadata": {},
   "outputs": [
    {
     "data": {
      "text/plain": [
       "array([[0.2934221 ],\n",
       "       [0.22921829],\n",
       "       [0.1813158 ],\n",
       "       [0.05655058],\n",
       "       [0.04512191],\n",
       "       [0.91699463]], dtype=float32)"
      ]
     },
     "execution_count": 29,
     "metadata": {},
     "output_type": "execute_result"
    }
   ],
   "source": [
    "y_predict = ann.predict(x_test)\n",
    "y_predict[:6]"
   ]
  },
  {
   "cell_type": "code",
   "execution_count": 30,
   "metadata": {},
   "outputs": [
    {
     "data": {
      "text/plain": [
       "array([[0, 0],\n",
       "       [0, 1],\n",
       "       [0, 0],\n",
       "       ...,\n",
       "       [0, 0],\n",
       "       [0, 0],\n",
       "       [0, 0]], dtype=int64)"
      ]
     },
     "execution_count": 30,
     "metadata": {},
     "output_type": "execute_result"
    }
   ],
   "source": [
    "# Change probability to binary value\n",
    "y_predict = (y_predict > 0.5)\n",
    "np.concatenate((y_predict.reshape(len(y_predict),1), y_test.reshape(len(y_test),1)), 1)"
   ]
  },
  {
   "cell_type": "code",
   "execution_count": 31,
   "metadata": {},
   "outputs": [],
   "source": [
    "from sklearn.metrics import confusion_matrix"
   ]
  },
  {
   "cell_type": "code",
   "execution_count": 35,
   "metadata": {},
   "outputs": [
    {
     "data": {
      "text/plain": [
       "array([[1512,   83],\n",
       "       [ 192,  213]], dtype=int64)"
      ]
     },
     "execution_count": 35,
     "metadata": {},
     "output_type": "execute_result"
    }
   ],
   "source": [
    "tn, fp, fn, tp = confusion_matrix(y_test, y_predict).ravel()\n",
    "confusion_matrix(y_test, y_predict)"
   ]
  },
  {
   "cell_type": "code",
   "execution_count": 38,
   "metadata": {},
   "outputs": [],
   "source": [
    "accuracy = (tn + tp) / (tn + fp + fn + tp)\n",
    "precision = tp / (fp + tp)\n",
    "recall = tp / (fn + tp)\n",
    "f1_score = (2 * precision * recall) / (precision + recall)"
   ]
  },
  {
   "cell_type": "code",
   "execution_count": 39,
   "metadata": {},
   "outputs": [
    {
     "name": "stdout",
     "output_type": "stream",
     "text": [
      "Accuracy: 0.8625\n",
      "Precision: 0.7195945945945946\n",
      "Recall: 0.5259259259259259\n",
      "F1 Score: 0.6077032810271041\n"
     ]
    }
   ],
   "source": [
    "print('Accuracy: {}'.format(accuracy))\n",
    "print('Precision: {}'.format(precision))\n",
    "print('Recall: {}'.format(recall))\n",
    "print('F1 Score: {}'.format(f1_score))"
   ]
  }
 ],
 "metadata": {
  "kernelspec": {
   "display_name": "Python 3",
   "language": "python",
   "name": "python3"
  },
  "language_info": {
   "codemirror_mode": {
    "name": "ipython",
    "version": 3
   },
   "file_extension": ".py",
   "mimetype": "text/x-python",
   "name": "python",
   "nbconvert_exporter": "python",
   "pygments_lexer": "ipython3",
   "version": "3.7.3"
  }
 },
 "nbformat": 4,
 "nbformat_minor": 2
}
