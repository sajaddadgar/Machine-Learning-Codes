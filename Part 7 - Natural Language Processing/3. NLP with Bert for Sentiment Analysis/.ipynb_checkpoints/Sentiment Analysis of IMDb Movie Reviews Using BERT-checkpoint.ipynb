{
 "cells": [
  {
   "cell_type": "markdown",
   "metadata": {},
   "source": [
    "# Natural Language Processing with Bert for Sentiment Analysis"
   ]
  },
  {
   "cell_type": "markdown",
   "metadata": {},
   "source": [
    "### 0. Installing the library"
   ]
  },
  {
   "cell_type": "code",
   "execution_count": 6,
   "metadata": {},
   "outputs": [
    {
     "name": "stdout",
     "output_type": "stream",
     "text": [
      "Requirement already satisfied: ktrain in c:\\users\\lenovo\\anaconda3\\lib\\site-packages (0.12.2)\n",
      "Requirement already satisfied: packaging in c:\\users\\lenovo\\anaconda3\\lib\\site-packages (from ktrain) (19.0)\n",
      "Requirement already satisfied: transformers>=2.7.0 in c:\\users\\lenovo\\anaconda3\\lib\\site-packages (from ktrain) (3.1.0)\n",
      "Requirement already satisfied: cchardet in c:\\users\\lenovo\\anaconda3\\lib\\site-packages (from ktrain) (2.1.6)\n",
      "Requirement already satisfied: langdetect in c:\\users\\lenovo\\anaconda3\\lib\\site-packages (from ktrain) (1.0.8)\n",
      "Requirement already satisfied: bokeh in c:\\users\\lenovo\\anaconda3\\lib\\site-packages (from ktrain) (1.0.4)\n",
      "Requirement already satisfied: tensorflow>=2.1.0 in c:\\users\\lenovo\\anaconda3\\lib\\site-packages (from ktrain) (2.1.0)\n",
      "Requirement already satisfied: requests in c:\\users\\lenovo\\anaconda3\\lib\\site-packages (from ktrain) (2.21.0)\n",
      "Requirement already satisfied: fastprogress>=0.1.21 in c:\\users\\lenovo\\anaconda3\\lib\\site-packages (from ktrain) (1.0.0)\n",
      "Requirement already satisfied: jieba in c:\\users\\lenovo\\anaconda3\\lib\\site-packages (from ktrain) (0.42.1)\n",
      "Requirement already satisfied: pandas>=1.0.1 in c:\\users\\lenovo\\anaconda3\\lib\\site-packages (from ktrain) (1.1.2)\n",
      "Requirement already satisfied: seqeval in c:\\users\\lenovo\\anaconda3\\lib\\site-packages (from ktrain) (0.0.12)\n",
      "Requirement already satisfied: matplotlib>=3.0.0 in c:\\users\\lenovo\\anaconda3\\lib\\site-packages (from ktrain) (3.0.3)\n",
      "Requirement already satisfied: syntok in c:\\users\\lenovo\\anaconda3\\lib\\site-packages (from ktrain) (1.3.1)\n",
      "Requirement already satisfied: scikit-learn>=0.21.3 in c:\\users\\lenovo\\anaconda3\\lib\\site-packages (from ktrain) (0.22.2.post1)\n",
      "Requirement already satisfied: tensorflow-datasets in c:\\users\\lenovo\\anaconda3\\lib\\site-packages (from ktrain) (3.2.1)\n",
      "Requirement already satisfied: ipython in c:\\users\\lenovo\\anaconda3\\lib\\site-packages (from ktrain) (7.4.0)\n",
      "Requirement already satisfied: joblib in c:\\users\\lenovo\\anaconda3\\lib\\site-packages (from ktrain) (0.14.1)\n",
      "Requirement already satisfied: networkx>=2.3 in c:\\users\\lenovo\\anaconda3\\lib\\site-packages (from ktrain) (2.5)\n",
      "Requirement already satisfied: keras-bert>=0.81.0 in c:\\users\\lenovo\\anaconda3\\lib\\site-packages (from ktrain) (0.86.0)\n",
      "Requirement already satisfied: six in c:\\users\\lenovo\\anaconda3\\lib\\site-packages (from packaging->ktrain) (1.12.0)\n",
      "Requirement already satisfied: pyparsing>=2.0.2 in c:\\users\\lenovo\\anaconda3\\lib\\site-packages (from packaging->ktrain) (2.3.1)\n",
      "Requirement already satisfied: tqdm>=4.27 in c:\\users\\lenovo\\anaconda3\\lib\\site-packages (from transformers>=2.7.0->ktrain) (4.48.2)\n",
      "Requirement already satisfied: filelock in c:\\users\\lenovo\\anaconda3\\lib\\site-packages (from transformers>=2.7.0->ktrain) (3.0.10)\n",
      "Requirement already satisfied: tokenizers==0.8.1.rc2 in c:\\users\\lenovo\\anaconda3\\lib\\site-packages (from transformers>=2.7.0->ktrain) (0.8.1rc2)\n",
      "Requirement already satisfied: sentencepiece!=0.1.92 in c:\\users\\lenovo\\anaconda3\\lib\\site-packages (from transformers>=2.7.0->ktrain) (0.1.91)\n",
      "Requirement already satisfied: numpy in c:\\users\\lenovo\\anaconda3\\lib\\site-packages (from transformers>=2.7.0->ktrain) (1.16.2)\n",
      "Requirement already satisfied: regex!=2019.12.17 in c:\\users\\lenovo\\anaconda3\\lib\\site-packages (from transformers>=2.7.0->ktrain) (2020.7.14)\n",
      "Requirement already satisfied: sacremoses in c:\\users\\lenovo\\anaconda3\\lib\\site-packages (from transformers>=2.7.0->ktrain) (0.0.43)\n",
      "Requirement already satisfied: python-dateutil>=2.1 in c:\\users\\lenovo\\anaconda3\\lib\\site-packages (from bokeh->ktrain) (2.8.0)\n",
      "Requirement already satisfied: tornado>=4.3 in c:\\users\\lenovo\\anaconda3\\lib\\site-packages (from bokeh->ktrain) (6.0.2)\n",
      "Requirement already satisfied: Jinja2>=2.7 in c:\\users\\lenovo\\anaconda3\\lib\\site-packages (from bokeh->ktrain) (2.10)\n",
      "Requirement already satisfied: pillow>=4.0 in c:\\users\\lenovo\\anaconda3\\lib\\site-packages (from bokeh->ktrain) (5.4.1)\n",
      "Requirement already satisfied: PyYAML>=3.10 in c:\\users\\lenovo\\anaconda3\\lib\\site-packages (from bokeh->ktrain) (5.1)\n",
      "Requirement already satisfied: termcolor>=1.1.0 in c:\\users\\lenovo\\anaconda3\\lib\\site-packages (from tensorflow>=2.1.0->ktrain) (1.1.0)\n",
      "Requirement already satisfied: keras-applications>=1.0.8 in c:\\users\\lenovo\\anaconda3\\lib\\site-packages (from tensorflow>=2.1.0->ktrain) (1.0.8)\n",
      "Requirement already satisfied: keras-preprocessing>=1.1.0 in c:\\users\\lenovo\\anaconda3\\lib\\site-packages (from tensorflow>=2.1.0->ktrain) (1.1.0)\n",
      "Requirement already satisfied: tensorflow-estimator<2.2.0,>=2.1.0rc0 in c:\\users\\lenovo\\anaconda3\\lib\\site-packages (from tensorflow>=2.1.0->ktrain) (2.1.0)\n",
      "Requirement already satisfied: scipy==1.4.1; python_version >= \"3\" in c:\\users\\lenovo\\anaconda3\\lib\\site-packages (from tensorflow>=2.1.0->ktrain) (1.4.1)\n",
      "Requirement already satisfied: gast==0.2.2 in c:\\users\\lenovo\\anaconda3\\lib\\site-packages (from tensorflow>=2.1.0->ktrain) (0.2.2)\n",
      "Requirement already satisfied: opt-einsum>=2.3.2 in c:\\users\\lenovo\\anaconda3\\lib\\site-packages (from tensorflow>=2.1.0->ktrain) (3.1.0)\n",
      "Requirement already satisfied: grpcio>=1.8.6 in c:\\users\\lenovo\\anaconda3\\lib\\site-packages (from tensorflow>=2.1.0->ktrain) (1.27.2)\n",
      "Requirement already satisfied: absl-py>=0.7.0 in c:\\users\\lenovo\\anaconda3\\lib\\site-packages (from tensorflow>=2.1.0->ktrain) (0.9.0)\n",
      "Requirement already satisfied: tensorboard<2.2.0,>=2.1.0 in c:\\users\\lenovo\\anaconda3\\lib\\site-packages (from tensorflow>=2.1.0->ktrain) (2.1.0)\n",
      "Requirement already satisfied: wrapt>=1.11.1 in c:\\users\\lenovo\\anaconda3\\lib\\site-packages (from tensorflow>=2.1.0->ktrain) (1.11.1)\n",
      "Requirement already satisfied: google-pasta>=0.1.6 in c:\\users\\lenovo\\anaconda3\\lib\\site-packages (from tensorflow>=2.1.0->ktrain) (0.1.8)\n",
      "Requirement already satisfied: astor>=0.6.0 in c:\\users\\lenovo\\anaconda3\\lib\\site-packages (from tensorflow>=2.1.0->ktrain) (0.8.1)\n",
      "Requirement already satisfied: protobuf>=3.8.0 in c:\\users\\lenovo\\anaconda3\\lib\\site-packages (from tensorflow>=2.1.0->ktrain) (3.11.3)\n",
      "Requirement already satisfied: wheel>=0.26; python_version >= \"3\" in c:\\users\\lenovo\\anaconda3\\lib\\site-packages (from tensorflow>=2.1.0->ktrain) (0.33.1)\n",
      "Requirement already satisfied: certifi>=2017.4.17 in c:\\users\\lenovo\\anaconda3\\lib\\site-packages (from requests->ktrain) (2019.3.9)\n",
      "Requirement already satisfied: urllib3<1.25,>=1.21.1 in c:\\users\\lenovo\\anaconda3\\lib\\site-packages (from requests->ktrain) (1.24.1)\n",
      "Requirement already satisfied: chardet<3.1.0,>=3.0.2 in c:\\users\\lenovo\\anaconda3\\lib\\site-packages (from requests->ktrain) (3.0.4)\n",
      "Requirement already satisfied: idna<2.9,>=2.5 in c:\\users\\lenovo\\anaconda3\\lib\\site-packages (from requests->ktrain) (2.8)\n",
      "Requirement already satisfied: pytz>=2017.2 in c:\\users\\lenovo\\anaconda3\\lib\\site-packages (from pandas>=1.0.1->ktrain) (2018.9)\n",
      "Requirement already satisfied: Keras>=2.2.4 in c:\\users\\lenovo\\anaconda3\\lib\\site-packages (from seqeval->ktrain) (2.4.3)\n",
      "Requirement already satisfied: cycler>=0.10 in c:\\users\\lenovo\\anaconda3\\lib\\site-packages (from matplotlib>=3.0.0->ktrain) (0.10.0)\n",
      "Requirement already satisfied: kiwisolver>=1.0.1 in c:\\users\\lenovo\\anaconda3\\lib\\site-packages (from matplotlib>=3.0.0->ktrain) (1.0.1)\n",
      "Requirement already satisfied: promise in c:\\users\\lenovo\\anaconda3\\lib\\site-packages (from tensorflow-datasets->ktrain) (2.3)\n",
      "Requirement already satisfied: attrs>=18.1.0 in c:\\users\\lenovo\\anaconda3\\lib\\site-packages (from tensorflow-datasets->ktrain) (19.1.0)\n",
      "Requirement already satisfied: future in c:\\users\\lenovo\\anaconda3\\lib\\site-packages (from tensorflow-datasets->ktrain) (0.17.1)\n",
      "Requirement already satisfied: dill in c:\\users\\lenovo\\anaconda3\\lib\\site-packages (from tensorflow-datasets->ktrain) (0.3.2)\n",
      "Requirement already satisfied: tensorflow-metadata in c:\\users\\lenovo\\anaconda3\\lib\\site-packages (from tensorflow-datasets->ktrain) (0.24.0)\n",
      "Requirement already satisfied: traitlets>=4.2 in c:\\users\\lenovo\\anaconda3\\lib\\site-packages (from ipython->ktrain) (4.3.2)\n",
      "Requirement already satisfied: colorama; sys_platform == \"win32\" in c:\\users\\lenovo\\anaconda3\\lib\\site-packages (from ipython->ktrain) (0.4.1)\n",
      "Requirement already satisfied: pickleshare in c:\\users\\lenovo\\anaconda3\\lib\\site-packages (from ipython->ktrain) (0.7.5)\n",
      "Requirement already satisfied: pygments in c:\\users\\lenovo\\anaconda3\\lib\\site-packages (from ipython->ktrain) (2.3.1)\n",
      "Requirement already satisfied: setuptools>=18.5 in c:\\users\\lenovo\\anaconda3\\lib\\site-packages (from ipython->ktrain) (45.2.0)\n",
      "Requirement already satisfied: prompt-toolkit<2.1.0,>=2.0.0 in c:\\users\\lenovo\\anaconda3\\lib\\site-packages (from ipython->ktrain) (2.0.9)\n",
      "Requirement already satisfied: decorator in c:\\users\\lenovo\\anaconda3\\lib\\site-packages (from ipython->ktrain) (4.4.0)\n",
      "Requirement already satisfied: backcall in c:\\users\\lenovo\\anaconda3\\lib\\site-packages (from ipython->ktrain) (0.1.0)\n",
      "Requirement already satisfied: jedi>=0.10 in c:\\users\\lenovo\\anaconda3\\lib\\site-packages (from ipython->ktrain) (0.13.3)\n",
      "Requirement already satisfied: keras-transformer>=0.38.0 in c:\\users\\lenovo\\anaconda3\\lib\\site-packages (from keras-bert>=0.81.0->ktrain) (0.38.0)\n",
      "Requirement already satisfied: click in c:\\users\\lenovo\\anaconda3\\lib\\site-packages (from sacremoses->transformers>=2.7.0->ktrain) (7.0)\n",
      "Requirement already satisfied: MarkupSafe>=0.23 in c:\\users\\lenovo\\anaconda3\\lib\\site-packages (from Jinja2>=2.7->bokeh->ktrain) (1.1.1)\n",
      "Requirement already satisfied: h5py in c:\\users\\lenovo\\anaconda3\\lib\\site-packages (from keras-applications>=1.0.8->tensorflow>=2.1.0->ktrain) (2.9.0)\n",
      "Requirement already satisfied: google-auth<2,>=1.6.3 in c:\\users\\lenovo\\anaconda3\\lib\\site-packages (from tensorboard<2.2.0,>=2.1.0->tensorflow>=2.1.0->ktrain) (1.11.2)\n",
      "Requirement already satisfied: markdown>=2.6.8 in c:\\users\\lenovo\\anaconda3\\lib\\site-packages (from tensorboard<2.2.0,>=2.1.0->tensorflow>=2.1.0->ktrain) (3.2.1)\n",
      "Requirement already satisfied: google-auth-oauthlib<0.5,>=0.4.1 in c:\\users\\lenovo\\anaconda3\\lib\\site-packages (from tensorboard<2.2.0,>=2.1.0->tensorflow>=2.1.0->ktrain) (0.4.1)\n",
      "Requirement already satisfied: werkzeug>=0.11.15 in c:\\users\\lenovo\\anaconda3\\lib\\site-packages (from tensorboard<2.2.0,>=2.1.0->tensorflow>=2.1.0->ktrain) (0.14.1)\n",
      "Requirement already satisfied: googleapis-common-protos<2,>=1.52.0 in c:\\users\\lenovo\\anaconda3\\lib\\site-packages (from tensorflow-metadata->tensorflow-datasets->ktrain) (1.52.0)\n",
      "Requirement already satisfied: ipython-genutils in c:\\users\\lenovo\\anaconda3\\lib\\site-packages (from traitlets>=4.2->ipython->ktrain) (0.2.0)\n",
      "Requirement already satisfied: wcwidth in c:\\users\\lenovo\\anaconda3\\lib\\site-packages (from prompt-toolkit<2.1.0,>=2.0.0->ipython->ktrain) (0.1.7)\n",
      "Requirement already satisfied: parso>=0.3.0 in c:\\users\\lenovo\\anaconda3\\lib\\site-packages (from jedi>=0.10->ipython->ktrain) (0.3.4)\n",
      "Requirement already satisfied: keras-layer-normalization>=0.14.0 in c:\\users\\lenovo\\anaconda3\\lib\\site-packages (from keras-transformer>=0.38.0->keras-bert>=0.81.0->ktrain) (0.14.0)\n",
      "Requirement already satisfied: keras-pos-embd>=0.11.0 in c:\\users\\lenovo\\anaconda3\\lib\\site-packages (from keras-transformer>=0.38.0->keras-bert>=0.81.0->ktrain) (0.11.0)\n",
      "Requirement already satisfied: keras-embed-sim>=0.8.0 in c:\\users\\lenovo\\anaconda3\\lib\\site-packages (from keras-transformer>=0.38.0->keras-bert>=0.81.0->ktrain) (0.8.0)\n",
      "Requirement already satisfied: keras-multi-head>=0.27.0 in c:\\users\\lenovo\\anaconda3\\lib\\site-packages (from keras-transformer>=0.38.0->keras-bert>=0.81.0->ktrain) (0.27.0)\n",
      "Requirement already satisfied: keras-position-wise-feed-forward>=0.6.0 in c:\\users\\lenovo\\anaconda3\\lib\\site-packages (from keras-transformer>=0.38.0->keras-bert>=0.81.0->ktrain) (0.6.0)\n",
      "Requirement already satisfied: pyasn1-modules>=0.2.1 in c:\\users\\lenovo\\anaconda3\\lib\\site-packages (from google-auth<2,>=1.6.3->tensorboard<2.2.0,>=2.1.0->tensorflow>=2.1.0->ktrain) (0.2.8)\n",
      "Requirement already satisfied: cachetools<5.0,>=2.0.0 in c:\\users\\lenovo\\anaconda3\\lib\\site-packages (from google-auth<2,>=1.6.3->tensorboard<2.2.0,>=2.1.0->tensorflow>=2.1.0->ktrain) (4.0.0)\n",
      "Requirement already satisfied: rsa<4.1,>=3.1.4 in c:\\users\\lenovo\\anaconda3\\lib\\site-packages (from google-auth<2,>=1.6.3->tensorboard<2.2.0,>=2.1.0->tensorflow>=2.1.0->ktrain) (4.0)\n",
      "Requirement already satisfied: requests-oauthlib>=0.7.0 in c:\\users\\lenovo\\anaconda3\\lib\\site-packages (from google-auth-oauthlib<0.5,>=0.4.1->tensorboard<2.2.0,>=2.1.0->tensorflow>=2.1.0->ktrain) (1.3.0)\n",
      "Requirement already satisfied: keras-self-attention==0.46.0 in c:\\users\\lenovo\\anaconda3\\lib\\site-packages (from keras-multi-head>=0.27.0->keras-transformer>=0.38.0->keras-bert>=0.81.0->ktrain) (0.46.0)\n",
      "Requirement already satisfied: pyasn1<0.5.0,>=0.4.6 in c:\\users\\lenovo\\anaconda3\\lib\\site-packages (from pyasn1-modules>=0.2.1->google-auth<2,>=1.6.3->tensorboard<2.2.0,>=2.1.0->tensorflow>=2.1.0->ktrain) (0.4.8)\n",
      "Requirement already satisfied: oauthlib>=3.0.0 in c:\\users\\lenovo\\anaconda3\\lib\\site-packages (from requests-oauthlib>=0.7.0->google-auth-oauthlib<0.5,>=0.4.1->tensorboard<2.2.0,>=2.1.0->tensorflow>=2.1.0->ktrain) (3.1.0)\n",
      "Note: you may need to restart the kernel to use updated packages.\n"
     ]
    }
   ],
   "source": [
    "pip install ktrain"
   ]
  },
  {
   "cell_type": "markdown",
   "metadata": {},
   "source": [
    "### 1. Data Preprocessing"
   ]
  },
  {
   "cell_type": "code",
   "execution_count": 7,
   "metadata": {},
   "outputs": [],
   "source": [
    "import os.path\n",
    "import numpy as np\n",
    "import tensorflow as tf\n",
    "import ktrain\n",
    "from ktrain import text"
   ]
  },
  {
   "cell_type": "markdown",
   "metadata": {},
   "source": [
    "#### 1.2. Loading the IMDB Dataset"
   ]
  },
  {
   "cell_type": "code",
   "execution_count": 8,
   "metadata": {},
   "outputs": [
    {
     "name": "stdout",
     "output_type": "stream",
     "text": [
      "Downloading data from http://ai.stanford.edu/~amaas/data/sentiment/aclImdb_v1.tar.gz\n",
      "84131840/84125825 [==============================] - 474s 6us/step\n"
     ]
    }
   ],
   "source": [
    "dataset = tf.keras.utils.get_file(fname = 'aclImdb_v1.tar.gz',\n",
    "                                 origin = \"http://ai.stanford.edu/~amaas/data/sentiment/aclImdb_v1.tar.gz\",\n",
    "                                 extract = True)\n",
    "IMDB_DATADIR = os.path.join(os.path.dirname(dataset), 'aclImdb')"
   ]
  },
  {
   "cell_type": "code",
   "execution_count": null,
   "metadata": {},
   "outputs": [],
   "source": []
  }
 ],
 "metadata": {
  "kernelspec": {
   "display_name": "Python 3",
   "language": "python",
   "name": "python3"
  },
  "language_info": {
   "codemirror_mode": {
    "name": "ipython",
    "version": 3
   },
   "file_extension": ".py",
   "mimetype": "text/x-python",
   "name": "python",
   "nbconvert_exporter": "python",
   "pygments_lexer": "ipython3",
   "version": "3.7.3"
  }
 },
 "nbformat": 4,
 "nbformat_minor": 2
}
